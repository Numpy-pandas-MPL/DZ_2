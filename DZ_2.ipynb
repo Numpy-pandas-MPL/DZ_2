{
 "cells": [
  {
   "cell_type": "code",
   "execution_count": 1,
   "metadata": {},
   "outputs": [],
   "source": [
    "#Загружаем бибилиотеку pandas\n",
    "import pandas as pd"
   ]
  },
  {
   "cell_type": "code",
   "execution_count": 2,
   "metadata": {},
   "outputs": [
    {
     "name": "stdout",
     "output_type": "stream",
     "text": [
      "Shawshank Redemption, The (1994)\n"
     ]
    }
   ],
   "source": [
    "#ЗАДАНИЕ 1\n",
    "\n",
    "#Читаем файлы со списком фильмов и рейтингами\n",
    "movies = pd.read_csv('movies.csv')\n",
    "ratings = pd.read_csv('ratings.csv')\n",
    "\n",
    "#В ratings отбираем фильмы с рейтингом 5 [ratings['rating'] == 5]\n",
    "#Затем в получившемся массиве берём столбец ['movieId']\n",
    "#В результате получаем последовательность movieId, состоящую из Id фильмов\n",
    "movieId = ratings[ratings['rating'] == 5]['movieId']\n",
    "\n",
    "#Метод value_counts() возвращает количество уникальных совпадений,\n",
    "#в результате на первом месте получаем movieId фильма с самым большим числом оценок 5\n",
    "#значение индекса на первом месте (искомый movieId) получаем методом .index[0]\n",
    "best_movieId = movieId.value_counts().index[0]\n",
    "\n",
    "#Ищем в movies название фильма соответствующее найденному best_movieId в столбце title\n",
    "#получаем массив из одного элемента, название фильма получаем с помощью .values[0]\n",
    "print(movies[movies['movieId'] == best_movieId]['title'].values[0])"
   ]
  },
  {
   "cell_type": "code",
   "execution_count": 3,
   "metadata": {},
   "outputs": [
    {
     "name": "stdout",
     "output_type": "stream",
     "text": [
      "201719.0\n"
     ]
    }
   ],
   "source": [
    "#ЗАДАНИЕ 2\n",
    "\n",
    "#Читаем файл c данными по энергопотреблению стран\n",
    "power = pd.read_csv('power.csv')\n",
    "\n",
    "#Фильтр по названию страны: Латвия, Литва и Эстония (Latvia, Lithuania, Estonia)\n",
    "country_filter = power['country'].isin(['Latvia', 'Lithuania', 'Estonia'])\n",
    "#Фильтр по категориям 4, 12 и 21\n",
    "category_filter = power['category'].isin([4, 12, 21])\n",
    "#Фильтр по годам c 2005 по 2010\n",
    "year_filter = power['year'].isin(range(2005, 2010))\n",
    "\n",
    "#Получаем результаты после всех фильтров, не учитываем отрицательные значения quantity\n",
    "result = power[country_filter & category_filter & year_filter & (power['quantity'] >= 0)]\n",
    "#Переводим значения столбца quantity в список, затем суммируем все его элементы\n",
    "print(sum(result['quantity'].tolist()))"
   ]
  },
  {
   "cell_type": "code",
   "execution_count": 16,
   "metadata": {},
   "outputs": [
    {
     "data": {
      "text/html": [
       "<div>\n",
       "<style scoped>\n",
       "    .dataframe tbody tr th:only-of-type {\n",
       "        vertical-align: middle;\n",
       "    }\n",
       "\n",
       "    .dataframe tbody tr th {\n",
       "        vertical-align: top;\n",
       "    }\n",
       "\n",
       "    .dataframe thead th {\n",
       "        text-align: right;\n",
       "    }\n",
       "</style>\n",
       "<table border=\"1\" class=\"dataframe\">\n",
       "  <thead>\n",
       "    <tr style=\"text-align: right;\">\n",
       "      <th></th>\n",
       "      <th>0</th>\n",
       "      <th>1</th>\n",
       "      <th>2</th>\n",
       "      <th>3</th>\n",
       "      <th>4</th>\n",
       "      <th>5</th>\n",
       "      <th>6</th>\n",
       "      <th>7</th>\n",
       "      <th>8</th>\n",
       "      <th>9</th>\n",
       "      <th>10</th>\n",
       "      <th>11</th>\n",
       "    </tr>\n",
       "  </thead>\n",
       "  <tbody>\n",
       "    <tr>\n",
       "      <th>0</th>\n",
       "      <td>ММВБ</td>\n",
       "      <td>3 822</td>\n",
       "      <td>0,2%</td>\n",
       "      <td>Nasdaq</td>\n",
       "      <td>14 253</td>\n",
       "      <td>0,8%</td>\n",
       "      <td>Биткойн</td>\n",
       "      <td>33 751</td>\n",
       "      <td>4,0%</td>\n",
       "      <td>USD/RUB</td>\n",
       "      <td>730645</td>\n",
       "      <td>0,2%</td>\n",
       "    </tr>\n",
       "    <tr>\n",
       "      <th>1</th>\n",
       "      <td>РТС</td>\n",
       "      <td>1 646</td>\n",
       "      <td>0,2%</td>\n",
       "      <td>S&amp;P500</td>\n",
       "      <td>4 246</td>\n",
       "      <td>0,5%</td>\n",
       "      <td>Нефть</td>\n",
       "      <td>753</td>\n",
       "      <td>0,7%</td>\n",
       "      <td>EUR/RUB</td>\n",
       "      <td>870725</td>\n",
       "      <td>0,0%</td>\n",
       "    </tr>\n",
       "    <tr>\n",
       "      <th>2</th>\n",
       "      <td>Dow</td>\n",
       "      <td>33 946</td>\n",
       "      <td>0,2%</td>\n",
       "      <td>FTSE100</td>\n",
       "      <td>7 090</td>\n",
       "      <td>0,4%</td>\n",
       "      <td>Золото</td>\n",
       "      <td>1 783</td>\n",
       "      <td>0,2%</td>\n",
       "      <td>EUR/USD</td>\n",
       "      <td>11927</td>\n",
       "      <td>-0,1%</td>\n",
       "    </tr>\n",
       "  </tbody>\n",
       "</table>\n",
       "</div>"
      ],
      "text/plain": [
       "     0       1     2        3       4     5        6       7     8        9   \\\n",
       "0  ММВБ   3 822  0,2%   Nasdaq  14 253  0,8%  Биткойн  33 751  4,0%  USD/RUB   \n",
       "1   РТС   1 646  0,2%   S&P500   4 246  0,5%    Нефть     753  0,7%  EUR/RUB   \n",
       "2   Dow  33 946  0,2%  FTSE100   7 090  0,4%   Золото   1 783  0,2%  EUR/USD   \n",
       "\n",
       "       10     11  \n",
       "0  730645   0,2%  \n",
       "1  870725   0,0%  \n",
       "2   11927  -0,1%  "
      ]
     },
     "execution_count": 16,
     "metadata": {},
     "output_type": "execute_result"
    }
   ],
   "source": [
    "#ЗАДАНИЕ 3\n",
    "\n",
    "#Импорт таблицы в pandas dataframe\n",
    "dataframe = pd.read_html('https://www.finanz.ru/valyuty/v-realnom-vremeni', encoding='utf-8')[0]\n",
    "dataframe"
   ]
  }
 ],
 "metadata": {
  "kernelspec": {
   "display_name": "Python 3",
   "language": "python",
   "name": "python3"
  },
  "language_info": {
   "codemirror_mode": {
    "name": "ipython",
    "version": 3
   },
   "file_extension": ".py",
   "mimetype": "text/x-python",
   "name": "python",
   "nbconvert_exporter": "python",
   "pygments_lexer": "ipython3",
   "version": "3.8.5"
  }
 },
 "nbformat": 4,
 "nbformat_minor": 4
}
